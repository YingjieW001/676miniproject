{
 "cells": [
  {
   "cell_type": "code",
   "execution_count": 4,
   "id": "bcf14c4d-0d05-4ae0-bc41-0d68a5c6505a",
   "metadata": {},
   "outputs": [
    {
     "name": "stdout",
     "output_type": "stream",
     "text": [
      "    name       phone_num area_code       state\n",
      "0    Ana     801-456-789       801        Utah\n",
      "1    Ben     609 4567890       609  New Jersey\n",
      "2   Cory  (206)-345-2619       206  Washington\n",
      "3  Danny      6095648765       609  New Jersey\n"
     ]
    }
   ],
   "source": [
    "import pandas as pd\n",
    "import re\n",
    "\n",
    "def read_data(file_name):\n",
    "    # read data from file_name\n",
    "    \n",
    "    return open(file_name, \"r\").read().splitlines()\n",
    "\n",
    "def match_area_code(num):\n",
    "    pattern = re.compile(r'\\d{3}')\n",
    "    return [pattern.findall(i)[0] for i in num]\n",
    "\n",
    "\n",
    "# get friends' information\n",
    "lst1 = read_data(\"friends.txt\")\n",
    "\n",
    "# get areacode mapping\n",
    "lst2 = read_data(\"map_areacodes_states.txt\")\n",
    "\n",
    "\n",
    "# df 1 is the data frame containing area_code and states information\n",
    "df1 = pd.DataFrame({'area_code': lst2[0::2], 'state': lst2[1::2]})\n",
    "\n",
    "# df 2 is the data frame containing name, phone_num and area_code information\n",
    "df2 = pd.DataFrame({\"name\": lst1[0::2], \"phone_num\": lst1[1::2], \"area_code\": match_area_code(lst1[1::2])})\n",
    "\n",
    "# Merge two data frames\n",
    "df = df2.merge(df1, on=\"area_code\", how='left')\n",
    "\n",
    "print(df)\n"
   ]
  },
  {
   "cell_type": "code",
   "execution_count": null,
   "id": "b03d0a2c-a832-471c-89f0-e1ea9d6461cc",
   "metadata": {},
   "outputs": [],
   "source": []
  }
 ],
 "metadata": {
  "kernelspec": {
   "display_name": "Python 3",
   "language": "python",
   "name": "python3"
  },
  "language_info": {
   "codemirror_mode": {
    "name": "ipython",
    "version": 3
   },
   "file_extension": ".py",
   "mimetype": "text/x-python",
   "name": "python",
   "nbconvert_exporter": "python",
   "pygments_lexer": "ipython3",
   "version": "3.8.8"
  }
 },
 "nbformat": 4,
 "nbformat_minor": 5
}
